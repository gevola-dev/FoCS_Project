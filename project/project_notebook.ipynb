{
 "cells": [
  {
   "cell_type": "code",
   "execution_count": 13,
   "id": "f010e98e",
   "metadata": {},
   "outputs": [
    {
     "name": "stderr",
     "output_type": "stream",
     "text": [
      "C:\\Users\\Work\\AppData\\Local\\Temp\\ipykernel_15572\\1223733496.py:2: DtypeWarning: Columns (6) have mixed types. Specify dtype option on import or set low_memory=False.\n",
      "  df = pd.read_csv('C:\\\\Users\\\\Work\\\\Downloads\\\\DATASETS\\\\FoCS_project\\\\data.csv')\n"
     ]
    },
    {
     "name": "stdout",
     "output_type": "stream",
     "text": [
      "VendorID: float64\n",
      "tpep_pickup_datetime: object\n",
      "tpep_dropoff_datetime: object\n",
      "passenger_count: float64\n",
      "trip_distance: float64\n",
      "RatecodeID: float64\n",
      "store_and_fwd_flag: object\n",
      "PULocationID: int64\n",
      "DOLocationID: int64\n",
      "payment_type: float64\n",
      "fare_amount: float64\n",
      "extra: float64\n",
      "mta_tax: float64\n",
      "tip_amount: float64\n",
      "tolls_amount: float64\n",
      "improvement_surcharge: float64\n",
      "total_amount: float64\n",
      "congestion_surcharge: float64\n"
     ]
    }
   ],
   "source": [
    "import pandas as pd\n",
    "df = pd.read_csv('C:\\\\Users\\\\Work\\\\Downloads\\\\DATASETS\\\\FoCS_project\\\\data.csv')\n",
    "#print(df.head())\n",
    "\n",
    "for col, dtype in df.dtypes.items():\n",
    "    print(f\"{col}: {dtype}\")"
   ]
  },
  {
   "cell_type": "markdown",
   "id": "a2ee5a98",
   "metadata": {},
   "source": [
    "Extract all trips with trip_distance larger than 50"
   ]
  },
  {
   "cell_type": "code",
   "execution_count": null,
   "id": "46dc9c90",
   "metadata": {},
   "outputs": [],
   "source": [
    "long_trips = df[df['trip_distance'] > 50]\n",
    "print(long_trips.head())"
   ]
  },
  {
   "cell_type": "markdown",
   "id": "7a1d5a70",
   "metadata": {},
   "source": [
    "Extract all trips where payment_type is missing"
   ]
  },
  {
   "cell_type": "code",
   "execution_count": null,
   "id": "4ff2e8d1",
   "metadata": {},
   "outputs": [],
   "source": [
    "missing_payment = df[df['payment_type'].isnull()]\n",
    "print(missing_payment.head())"
   ]
  },
  {
   "cell_type": "markdown",
   "id": "e388c52f",
   "metadata": {},
   "source": [
    "For each (PULocationID, DOLocationID) pair, determine the number of trips"
   ]
  },
  {
   "cell_type": "code",
   "execution_count": null,
   "id": "e100cc9c",
   "metadata": {},
   "outputs": [],
   "source": [
    "trip_counts = df.groupby(['PULocationID', 'DOLocationID']).size().reset_index(name='trip_count')\n",
    "print(trip_counts)"
   ]
  },
  {
   "cell_type": "markdown",
   "id": "4770c128",
   "metadata": {},
   "source": [
    "Save all rows with missing VendorID, passenger_count, store_and_fwd_flag, payment_type in a new dataframe called bad, and remove those rows from the original dataframe."
   ]
  },
  {
   "cell_type": "code",
   "execution_count": 11,
   "id": "8bcb5b1e",
   "metadata": {},
   "outputs": [],
   "source": [
    "# Define columns to check for missing values\n",
    "columns_to_check = ['VendorID', 'passenger_count', 'store_and_fwd_flag', 'payment_type']\n",
    "\n",
    "# Create 'bad' DataFrame with missing values in any of those columns\n",
    "bad_df = df[df[columns_to_check].isna().any(axis=1)] #Look across columns in each row. If any column is missing, return True for that row.\n",
    "\n",
    "# Remove those rows from the original DataFrame\n",
    "df = df.drop(bad_df.index)"
   ]
  },
  {
   "cell_type": "markdown",
   "id": "9071e5cf",
   "metadata": {},
   "source": [
    "Add a duration column storing how long each trip has taken (use tpep_pickup_datetime, tpep_dropoff_datetime)"
   ]
  },
  {
   "cell_type": "code",
   "execution_count": 12,
   "id": "8a5d5cf5",
   "metadata": {},
   "outputs": [],
   "source": [
    "# Convert datetime columns\n",
    "df['tpep_pickup_datetime'] = pd.to_datetime(df['tpep_pickup_datetime'])\n",
    "df['tpep_dropoff_datetime'] = pd.to_datetime(df['tpep_dropoff_datetime'])\n",
    "\n",
    "# Add duration column in minutes\n",
    "df['duration'] = (df['tpep_dropoff_datetime'] - df['tpep_pickup_datetime']).dt.total_seconds() / 60"
   ]
  },
  {
   "cell_type": "markdown",
   "id": "ddfe43a0",
   "metadata": {},
   "source": [
    "For each pickup location, determine how many trips have started there."
   ]
  },
  {
   "cell_type": "code",
   "execution_count": 14,
   "id": "4079452b",
   "metadata": {},
   "outputs": [
    {
     "name": "stdout",
     "output_type": "stream",
     "text": [
      "     PULocationID  trip_count\n",
      "0               1         755\n",
      "1               2           3\n",
      "2               3         206\n",
      "3               4       10147\n",
      "4               5          39\n",
      "..            ...         ...\n",
      "256           261       34583\n",
      "257           262       85805\n",
      "258           263      124733\n",
      "259           264       43958\n",
      "260           265        3160\n",
      "\n",
      "[261 rows x 2 columns]\n"
     ]
    }
   ],
   "source": [
    "# Count number of trips per pickup location\n",
    "pickup_counts = df.groupby('PULocationID').size().reset_index(name='trip_count')\n",
    "\n",
    "# Display result\n",
    "print(pickup_counts)"
   ]
  },
  {
   "cell_type": "markdown",
   "id": "838e2d2c",
   "metadata": {},
   "source": [
    "Cluster the pickup time of the day into 30-minute intervals (e.g. from 02:00 to 02:30)"
   ]
  },
  {
   "cell_type": "code",
   "execution_count": null,
   "id": "64e52bed",
   "metadata": {},
   "outputs": [],
   "source": [
    "# Make sure the column is datetime\n",
    "df['tpep_pickup_datetime'] = pd.to_datetime(df['tpep_pickup_datetime'])\n",
    "\n",
    "# Create a new column with 30-minute intervals\n",
    "df['pickup_half_hour'] = df['tpep_pickup_datetime'].dt.floor('30min')\n",
    "\n",
    "pickup_distribution = df.groupby('pickup_half_hour').size().reset_index(name='trip_count')\n",
    "print(pickup_distribution.head())"
   ]
  }
 ],
 "metadata": {
  "kernelspec": {
   "display_name": "Python 3",
   "language": "python",
   "name": "python3"
  },
  "language_info": {
   "codemirror_mode": {
    "name": "ipython",
    "version": 3
   },
   "file_extension": ".py",
   "mimetype": "text/x-python",
   "name": "python",
   "nbconvert_exporter": "python",
   "pygments_lexer": "ipython3",
   "version": "3.12.4"
  }
 },
 "nbformat": 4,
 "nbformat_minor": 5
}
